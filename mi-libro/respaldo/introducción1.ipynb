{
 "cells": [
  {
   "cell_type": "markdown",
   "id": "22b055d6",
   "metadata": {},
   "source": [
    "# Introducción a la estadística inferencias\n",
    "Este material esta dirigido a los estudiantes de la asignatura de Estadística Inferencial de la carrera de Ingeniería en Software.\n",
    "\n",
    "La asignatura persigue que los estudiantes adquieranlos conocimientos necesarios para que a partir de una muestra pueda tomar deciciones o hacer inferencias sobre la problación en estudio.\n",
    "\n",
    "Los contenidos a cubrir en el curso son:\n",
    "\n",
    "- Repaso de probabilidades - Teoría elemental de Probabilidad\n",
    "- Funciones de distribución continuas y discretas\n",
    "- Teoría e muestreo\n",
    "- Muestreo\n",
    "- Pruebas de hipótesis\n",
    "- Regresión lineal y correlación\n",
    "\n",
    "Los resultados de arendizaje establecido para el curso son:\n",
    "- Aplicar los conocimientos básicos de probabilidad. Utiliza estimadores muéstrales para describir las distribuciones de probabilidad de una variable aleatoria discreta o continua.\n",
    "- Aplicar los conceptos básicos de la teoría de muestreo definiendo el método, tamaño y tipo de población, con la finalidad de calcular la probabilidad de eventos muestrales\n",
    "- Extraer conclusiones útiles sobre características de una población basándose en pruebas estadísticas para realizar una adecuada toma de decisiones\n",
    "\n"
   ]
  },
  {
   "cell_type": "code",
   "execution_count": null,
   "id": "caf7ada9-46d9-44c3-822d-a03d0e8c77df",
   "metadata": {},
   "outputs": [],
   "source": [
    "# Syllabus\n",
    "\n",
    "<a href=\"#\" id=\"togglePdf\">Ver PDF</a>\n",
    "\n",
    "<div id=\"pdfContainer\" style=\"display:none;\">\n",
    "    <iframe src=\"./syllabus/Syllabus.pdf\" width=\"800\" height=\"600\" frameborder=\"0\">\n",
    "        Este navegador no puede mostrar el PDF. Por favor, descarga el archivo <a href=\"./syllabus/Syllabus.pdf\">aquí</a>.\n",
    "    </iframe>\n",
    "</div>\n",
    "\n",
    "<script>\n",
    "    // Seleccionar el enlace y el contenedor del PDF\n",
    "    const togglePdf = document.getElementById('togglePdf');\n",
    "    const pdfContainer = document.getElementById('pdfContainer');\n",
    "\n",
    "    // Agregar un evento de clic al enlace\n",
    "    togglePdf.addEventListener('click', function(event) {\n",
    "        event.preventDefault(); // Prevenir el comportamiento por defecto del enlace\n",
    "        \n",
    "        // Alternar la visibilidad del contenedor PDF\n",
    "        if (pdfContainer.style.display === 'none' || pdfContainer.style.display === '') {\n",
    "            pdfContainer.style.display = 'block'; // Mostrar el PDF\n",
    "            togglePdf.textContent = 'Cerrar PDF'; // Cambiar el texto del enlace\n",
    "        } else {\n",
    "            pdfContainer.style.display = 'none'; // Ocultar el PDF\n",
    "            togglePdf.textContent = 'Ver PDF'; // Cambiar el texto del enlace\n",
    "        }\n",
    "    });\n",
    "</script>"
   ]
  },
  {
   "cell_type": "code",
   "execution_count": null,
   "id": "aa628893-1261-4745-9036-eee423f1a5f9",
   "metadata": {},
   "outputs": [],
   "source": []
  }
 ],
 "metadata": {
  "kernelspec": {
   "display_name": "Python 3 (ipykernel)",
   "language": "python",
   "name": "python3"
  },
  "language_info": {
   "codemirror_mode": {
    "name": "ipython",
    "version": 3
   },
   "file_extension": ".py",
   "mimetype": "text/x-python",
   "name": "python",
   "nbconvert_exporter": "python",
   "pygments_lexer": "ipython3",
   "version": "3.12.4"
  }
 },
 "nbformat": 4,
 "nbformat_minor": 5
}
