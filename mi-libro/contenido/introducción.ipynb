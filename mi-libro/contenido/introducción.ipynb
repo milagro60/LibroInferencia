{
 "cells": [
  {
   "cell_type": "markdown",
   "id": "64d437aa-bd54-4c4c-9021-88797964d03b",
   "metadata": {},
   "source": [
    "# Introducción a la estadística inferencias\n",
    "Este material esta dirigido a los estudiantes de la asignatura de Estadística Inferencial de la carrera de Ingeniería en Software.\n",
    "La asignatura persigue que los estudiantes adquieranlos conocimientos necesarios para que a partir de una muestra pueda tomar deciciones o hacer inferencias sobre la problación en estudio.\n",
    "Los contenidos a cubrir en el curso son:\n",
    "- Repaso de probabilidades - Teoría elemental de Probabilidad\n",
    "- Funciones de distribución continuas y discretas\n",
    "- Teoría e muestreo\n",
    "- Muestreo\n",
    "- Pruebas de hipótesis\n",
    "- Regresión lineal y correlación\n",
    "Los resultados de arendizaje establecido para el curso son:\n",
    "- Aplicar los conocimientos básicos de probabilidad. Utiliza estimadores muéstrales para describir las distribuciones de probabilidad de una variable aleatoria discreta o continua.\n",
    "- Aplicar los conceptos básicos de la teoría de muestreo definiendo el método, tamaño y tipo de población, con la finalidad de calcular la probabilidad de eventos muestrales\n",
    "- Extraer conclusiones útiles sobre características de una población basándose en pruebas estadísticas para realizar una adecuada toma de decisiones\n",
    "\n"
   ]
  },
  {
   "cell_type": "markdown",
   "id": "6f0b5cf3-5902-4143-96bf-c1f1476cf2ef",
   "metadata": {},
   "source": [
    "<button id=\"togglePdf\">Abrir PDF</button>\n",
    "\n",
    "<div id=\"pdfContainer\" style=\"display: none;\">\n",
    "    <iframe src=\"Syllabus.pdf\" width=\"100%\" height=\"600px\">\n",
    "        Este navegador no soporta PDFs. Por favor, descarga el PDF para verlo.\n",
    "    </iframe>\n",
    "</div>\n",
    "\n",
    "<script>\n",
    "    document.getElementById('togglePdf').onclick = function() {\n",
    "        var pdfContainer = document.getElementById('pdfContainer');\n",
    "        if (pdfContainer.style.display === \"none\") {\n",
    "            pdfContainer.style.display = \"block\";\n",
    "            this.textContent = \"Cerrar PDF\";\n",
    "        } else {\n",
    "            pdfContainer.style.display = \"none\";\n",
    "            this.textContent = \"Abrir PDF\";\n",
    "        }\n",
    "    };\n",
    "</script>"
   ]
  }
 ],
 "metadata": {
  "kernelspec": {
   "display_name": "Python 3 (ipykernel)",
   "language": "python",
   "name": "python3"
  },
  "language_info": {
   "codemirror_mode": {
    "name": "ipython",
    "version": 3
   },
   "file_extension": ".py",
   "mimetype": "text/x-python",
   "name": "python",
   "nbconvert_exporter": "python",
   "pygments_lexer": "ipython3",
   "version": "3.12.4"
  }
 },
 "nbformat": 4,
 "nbformat_minor": 5
}
