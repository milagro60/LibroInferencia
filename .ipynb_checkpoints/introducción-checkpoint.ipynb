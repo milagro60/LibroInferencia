{
 "cells": [
  {
   "cell_type": "markdown",
   "id": "22b055d6",
   "metadata": {},
   "source": [
    "# Introducción a la estadística inferencias\n",
    "Este material esta dirigido a los estudiantes de la asignatura de Estadística Inferencial de la carrera de Ingeniería en Software.\n",
    "\n",
    "La asignatura persigue que los estudiantes adquieranlos conocimientos necesarios para que a partir de una muestra pueda tomar deciciones o hacer inferencias sobre la problación en estudio.\n",
    "\n",
    "Los contenidos a cubrir en el curso son:\n",
    "\n",
    "- Repaso de probabilidades - Teoría elemental de Probabilidad\n",
    "- Funciones de distribución continuas y discretas\n",
    "- Teoría e muestreo\n",
    "- Muestreo\n",
    "- Pruebas de hipótesis\n",
    "- Regresión lineal y correlación\n",
    "\n",
    "Los resultados de arendizaje establecido para el curso son:\n",
    "- Aplicar los conocimientos básicos de probabilidad. Utiliza estimadores muéstrales para describir las distribuciones de probabilidad de una variable aleatoria discreta o continua.\n",
    "- Aplicar los conceptos básicos de la teoría de muestreo definiendo el método, tamaño y tipo de población, con la finalidad de calcular la probabilidad de eventos muestrales\n",
    "- Extraer conclusiones útiles sobre características de una población basándose en pruebas estadísticas para realizar una adecuada toma de decisiones\n",
    "\n"
   ]
  },
  {
   "cell_type": "markdown",
   "id": "fca47f21",
   "metadata": {},
   "source": [
    "[Ver Syllabus](./Syllabus.pdf)"
   ]
  },
  {
   "cell_type": "code",
   "execution_count": null,
   "id": "54737762",
   "metadata": {},
   "outputs": [
    {
     "data": {
      "text/html": [
       "\n",
       "        <iframe\n",
       "            width=\"800\"\n",
       "            height=\"600\"\n",
       "            src=\"./Syllabus.pdf\"\n",
       "            frameborder=\"0\"\n",
       "            allowfullscreen\n",
       "            \n",
       "        ></iframe>\n",
       "        "
      ],
      "text/plain": [
       "<IPython.lib.display.IFrame at 0x24203d78c80>"
      ]
     },
     "execution_count": 1,
     "metadata": {},
     "output_type": "execute_result"
    }
   ],
   "source": [
    "from IPython.display import IFrame\n",
    "\n",
    "IFrame('./Syllabus.pdf', width=800, height=600)"
   ]
  },
  {
   "cell_type": "markdown",
   "id": "b3f54ced",
   "metadata": {},
   "source": []
  }
 ],
 "metadata": {
  "kernelspec": {
   "display_name": "Python 3 (ipykernel)",
   "language": "python",
   "name": "python3"
  },
  "language_info": {
   "codemirror_mode": {
    "name": "ipython",
    "version": 3
   },
   "file_extension": ".py",
   "mimetype": "text/x-python",
   "name": "python",
   "nbconvert_exporter": "python",
   "pygments_lexer": "ipython3",
   "version": "3.12.4"
  }
 },
 "nbformat": 4,
 "nbformat_minor": 5
}
